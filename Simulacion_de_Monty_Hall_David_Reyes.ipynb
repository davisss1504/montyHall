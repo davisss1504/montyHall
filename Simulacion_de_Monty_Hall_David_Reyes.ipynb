{
 "cells": [
  {
   "cell_type": "markdown",
   "metadata": {},
   "source": [
    "# Simulación de Monty Hall"
   ]
  },
  {
   "cell_type": "code",
   "execution_count": 12,
   "metadata": {},
   "outputs": [
    {
     "name": "stdout",
     "output_type": "stream",
     "text": [
      "Numero de partidas ganadas con cambio:  71 Equivale al: 71.0 %\n",
      "Numero de partidas ganadas sin cambio:  29 Equivale al: 28.999999999999996 %\n"
     ]
    }
   ],
   "source": [
    "import random\n",
    "\n",
    "numero_partidas = 100\n",
    "puertas = 3\n",
    "partidas_ganadas_cambio = 0\n",
    "partidas_ganadas_sin_cambio = 0\n",
    "\n",
    "for indice in range(0, numero_partidas):\n",
    "    puerta_premiada = random.randrange(0, puertas)    # Colocar el premio en una puerta\n",
    "    puerta_escogida = random.randrange(0, puertas)      #Escoger una puerta\n",
    "\n",
    "# La puerta de premio y la puerta escogida nunca se van abrir\n",
    "\n",
    "    if puerta_premiada != puerta_escogida:\n",
    "        partidas_ganadas_cambio = partidas_ganadas_cambio + 1\n",
    "        \n",
    "    else:\n",
    "        partidas_ganadas_sin_cambio = partidas_ganadas_sin_cambio + 1\n",
    "        \n",
    "porcentaje_cambio = (partidas_ganadas_cambio/numero_partidas) * 100\n",
    "porcentaje_sin_cambio = (partidas_ganadas_sin_cambio/numero_partidas) * 100\n",
    "\n",
    "\n",
    "print(\"Numero de partidas ganadas con cambio: \", partidas_ganadas_cambio, \"Equivale al:\", porcentaje_cambio, \"%\")\n",
    "print(\"Numero de partidas ganadas sin cambio: \", partidas_ganadas_sin_cambio, \"Equivale al:\", porcentaje_sin_cambio, \"%\")\n",
    "\n",
    "\n",
    "    "
   ]
  }
 ],
 "metadata": {
  "kernelspec": {
   "display_name": "Python 3",
   "language": "python",
   "name": "python3"
  },
  "language_info": {
   "codemirror_mode": {
    "name": "ipython",
    "version": 3
   },
   "file_extension": ".py",
   "mimetype": "text/x-python",
   "name": "python",
   "nbconvert_exporter": "python",
   "pygments_lexer": "ipython3",
   "version": "3.7.6"
  }
 },
 "nbformat": 4,
 "nbformat_minor": 4
}
